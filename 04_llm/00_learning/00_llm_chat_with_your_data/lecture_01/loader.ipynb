{
 "cells": [
  {
   "cell_type": "code",
   "execution_count": null,
   "metadata": {},
   "outputs": [],
   "source": [
    "%pip install langchain"
   ]
  },
  {
   "cell_type": "code",
   "execution_count": null,
   "metadata": {},
   "outputs": [],
   "source": [
    "%pip install openai\n",
    "%pip install dotenv\n",
    "%pip install pypdf"
   ]
  },
  {
   "cell_type": "code",
   "execution_count": 8,
   "metadata": {},
   "outputs": [],
   "source": [
    "from langchain.document_loaders import PyPDFLoader\n",
    "loader = PyPDFLoader(\"../docs/pdf/data.pdf\")\n",
    "pages = loader.load()"
   ]
  },
  {
   "cell_type": "code",
   "execution_count": 9,
   "metadata": {},
   "outputs": [
    {
     "data": {
      "text/plain": [
       "2"
      ]
     },
     "execution_count": 9,
     "metadata": {},
     "output_type": "execute_result"
    }
   ],
   "source": [
    "len(pages)"
   ]
  },
  {
   "cell_type": "code",
   "execution_count": 10,
   "metadata": {},
   "outputs": [],
   "source": [
    "page = pages[0]"
   ]
  },
  {
   "cell_type": "code",
   "execution_count": 11,
   "metadata": {},
   "outputs": [
    {
     "name": "stdout",
     "output_type": "stream",
     "text": [
      "Home\t|\tEducation\tFor\tAll\t\n",
      "Skip\tto\tmain\tcontent\t\n",
      "Â\tHelp\tDeskÂ\t\t\n",
      "Â\tScreen\tReader\tÂ\t051-111-112-468\t\n",
      "-A\tA\t+A\t\n",
      "Select\tyour\tlanguage\n",
      "EnglishØ§Ø±Ø¯Ùˆ\t\n",
      "Admission\tOpen\tFor\tSemester\tSpring\t2024\t\n",
      "Reschedule\tExam\t(AD,\tBS,\tB.Ed)\t\n",
      "AJK\ton\t10\t&\t11\tMay,\t2024\t\n",
      "MBA\n",
      "Viva\tVoce\tResult\tMarch,\t2024\t\n",
      "MSc\tViva\tVoce\tResultAdministrative\tSciences\tFebruary\t19\tto\t20,\t2024\t\n",
      "Convocation\tClick\tHere\tFor\n",
      "Registration\t\n",
      "AIOU\tSWIFT\tCENTERS\t\n",
      "\"\tClick\tfor\tDetails\"\t\n",
      "Certificate/Degree\tProcessing\tRequirements\t\n",
      "Examinations\tDepartment\n",
      "Ma\n"
     ]
    }
   ],
   "source": [
    "print(page.page_content[0:500])"
   ]
  },
  {
   "cell_type": "code",
   "execution_count": 12,
   "metadata": {},
   "outputs": [
    {
     "data": {
      "text/plain": [
       "{'source': '../docs/pdf/data.pdf', 'page': 0}"
      ]
     },
     "execution_count": 12,
     "metadata": {},
     "output_type": "execute_result"
    }
   ],
   "source": [
    "page.metadata"
   ]
  },
  {
   "cell_type": "markdown",
   "metadata": {},
   "source": [
    "# YOUTUBE"
   ]
  },
  {
   "cell_type": "code",
   "execution_count": 13,
   "metadata": {},
   "outputs": [],
   "source": [
    "from langchain.document_loaders.generic import GenericLoader\n",
    "from langchain.document_loaders.parsers import OpenAIWhisperParser\n",
    "from langchain.document_loaders.blob_loaders.youtube_audio import YoutubeAudioLoader"
   ]
  },
  {
   "cell_type": "code",
   "execution_count": 3,
   "metadata": {},
   "outputs": [
    {
     "name": "stdout",
     "output_type": "stream",
     "text": [
      "Requirement already satisfied: yt_dlp in /home/harry/anaconda3/envs/llm/lib/python3.12/site-packages (2024.4.9)\n",
      "Requirement already satisfied: brotli in /home/harry/anaconda3/envs/llm/lib/python3.12/site-packages (from yt_dlp) (1.1.0)\n",
      "Requirement already satisfied: certifi in /home/harry/anaconda3/envs/llm/lib/python3.12/site-packages (from yt_dlp) (2024.2.2)\n",
      "Requirement already satisfied: mutagen in /home/harry/anaconda3/envs/llm/lib/python3.12/site-packages (from yt_dlp) (1.47.0)\n",
      "Requirement already satisfied: pycryptodomex in /home/harry/anaconda3/envs/llm/lib/python3.12/site-packages (from yt_dlp) (3.20.0)\n",
      "Requirement already satisfied: requests<3,>=2.31.0 in /home/harry/anaconda3/envs/llm/lib/python3.12/site-packages (from yt_dlp) (2.31.0)\n",
      "Requirement already satisfied: urllib3<3,>=1.26.17 in /home/harry/anaconda3/envs/llm/lib/python3.12/site-packages (from yt_dlp) (2.2.1)\n",
      "Requirement already satisfied: websockets>=12.0 in /home/harry/anaconda3/envs/llm/lib/python3.12/site-packages (from yt_dlp) (12.0)\n",
      "Requirement already satisfied: charset-normalizer<4,>=2 in /home/harry/anaconda3/envs/llm/lib/python3.12/site-packages (from requests<3,>=2.31.0->yt_dlp) (3.3.2)\n",
      "Requirement already satisfied: idna<4,>=2.5 in /home/harry/anaconda3/envs/llm/lib/python3.12/site-packages (from requests<3,>=2.31.0->yt_dlp) (3.7)\n",
      "Note: you may need to restart the kernel to use updated packages.\n",
      "Requirement already satisfied: pydub in /home/harry/anaconda3/envs/llm/lib/python3.12/site-packages (0.25.1)\n",
      "Note: you may need to restart the kernel to use updated packages.\n"
     ]
    }
   ],
   "source": [
    "%pip install yt_dlp\n",
    "%pip install pydub"
   ]
  },
  {
   "cell_type": "code",
   "execution_count": null,
   "metadata": {},
   "outputs": [],
   "source": [
    "%pip install ffmpeg\n",
    "%pip install ffprobe"
   ]
  },
  {
   "cell_type": "code",
   "execution_count": 14,
   "metadata": {},
   "outputs": [],
   "source": [
    "import os\n",
    "import openai\n",
    "import sys\n",
    "sys.path.append('../.env')\n",
    "\n",
    "from dotenv import load_dotenv, find_dotenv\n",
    "_ = load_dotenv(find_dotenv()) # read local .env file\n",
    "\n",
    "openai.api_key  = os.environ['OPENAI_API_KEY']"
   ]
  },
  {
   "cell_type": "code",
   "execution_count": 15,
   "metadata": {},
   "outputs": [
    {
     "name": "stdout",
     "output_type": "stream",
     "text": [
      "Note: you may need to restart the kernel to use updated packages.\n"
     ]
    }
   ],
   "source": [
    "%pip install --upgrade youtube-dl"
   ]
  },
  {
   "cell_type": "code",
   "execution_count": 17,
   "metadata": {},
   "outputs": [
    {
     "name": "stdout",
     "output_type": "stream",
     "text": [
      "[youtube] Extracting URL: https://www.youtube.com/watch?v=Jy9tNyp03M0\n",
      "[youtube] Jy9tNyp03M0: Downloading webpage\n",
      "[youtube] Jy9tNyp03M0: Downloading ios player API JSON\n",
      "[youtube] Jy9tNyp03M0: Downloading android player API JSON\n"
     ]
    },
    {
     "name": "stderr",
     "output_type": "stream",
     "text": [
      "WARNING: [youtube] Skipping player responses from android clients (got player responses for video \"aQvGIIdgFDM\" instead of \"Jy9tNyp03M0\")\n"
     ]
    },
    {
     "name": "stdout",
     "output_type": "stream",
     "text": [
      "[youtube] Jy9tNyp03M0: Downloading m3u8 information\n",
      "[info] Jy9tNyp03M0: Downloading 1 format(s): 140\n",
      "[download] Destination: ../docs/youtube//Mehdi Hasan ｜ Islam Is A Peaceful Religion ｜ Oxford Union.m4a\n",
      "[download] 100% of   12.78MiB in 00:00:06 at 1.92MiB/s   \n",
      "[FixupM4a] Correcting container of \"../docs/youtube//Mehdi Hasan ｜ Islam Is A Peaceful Religion ｜ Oxford Union.m4a\"\n",
      "[ExtractAudio] Not converting audio ../docs/youtube//Mehdi Hasan ｜ Islam Is A Peaceful Religion ｜ Oxford Union.m4a; file is already in target format m4a\n",
      "Transcribing part 1!\n"
     ]
    }
   ],
   "source": [
    "url=\"https://www.youtube.com/watch?v=Jy9tNyp03M0\"\n",
    "save_dir=\"../docs/youtube/\"\n",
    "loader = GenericLoader(\n",
    "    YoutubeAudioLoader([url],save_dir),\n",
    "    OpenAIWhisperParser(api_key=openai.api_key)\n",
    ")\n",
    "docs = loader.load()"
   ]
  },
  {
   "cell_type": "code",
   "execution_count": 18,
   "metadata": {},
   "outputs": [
    {
     "data": {
      "text/plain": [
       "'Thank you very much, Mr President, ladies and gentlemen, good evening, assalamu alaikum, lovely to see you all here tonight. We are having a very entertaining night, are we not, with some very interesting things being said. From the other side of the house tonight, let me begin by saying, as a Muslim, as a representative of Islam, I would consider myself an ambassador for Islam, a believer in Islam, a follower of Islam and its prophet. So in that capacity, let me begin by apologising to Anne-Mar'"
      ]
     },
     "execution_count": 18,
     "metadata": {},
     "output_type": "execute_result"
    }
   ],
   "source": [
    "docs[0].page_content[0:500]"
   ]
  },
  {
   "cell_type": "markdown",
   "metadata": {},
   "source": [
    "# URL"
   ]
  },
  {
   "cell_type": "code",
   "execution_count": 7,
   "metadata": {},
   "outputs": [],
   "source": [
    "from langchain.document_loaders import WebBaseLoader\n",
    "\n",
    "loader = WebBaseLoader(\"https://www.aiou.edu.pk/\", verify_ssl=False)"
   ]
  },
  {
   "cell_type": "code",
   "execution_count": 7,
   "metadata": {},
   "outputs": [
    {
     "name": "stdout",
     "output_type": "stream",
     "text": [
      "Collecting bs4\n",
      "  Downloading bs4-0.0.2-py2.py3-none-any.whl.metadata (411 bytes)\n",
      "Collecting beautifulsoup4 (from bs4)\n",
      "  Downloading beautifulsoup4-4.12.3-py3-none-any.whl.metadata (3.8 kB)\n",
      "Collecting soupsieve>1.2 (from beautifulsoup4->bs4)\n",
      "  Downloading soupsieve-2.5-py3-none-any.whl.metadata (4.7 kB)\n",
      "Downloading bs4-0.0.2-py2.py3-none-any.whl (1.2 kB)\n",
      "Downloading beautifulsoup4-4.12.3-py3-none-any.whl (147 kB)\n",
      "\u001b[2K   \u001b[90m━━━━━━━━━━━━━━━━━━━━━━━━━━━━━━━━━━━━━━━\u001b[0m \u001b[32m147.9/147.9 kB\u001b[0m \u001b[31m844.0 kB/s\u001b[0m eta \u001b[36m0:00:00\u001b[0ma \u001b[36m0:00:01\u001b[0m\n",
      "\u001b[?25hDownloading soupsieve-2.5-py3-none-any.whl (36 kB)\n",
      "Installing collected packages: soupsieve, beautifulsoup4, bs4\n",
      "Successfully installed beautifulsoup4-4.12.3 bs4-0.0.2 soupsieve-2.5\n",
      "Note: you may need to restart the kernel to use updated packages.\n"
     ]
    }
   ],
   "source": [
    "%pip install bs4"
   ]
  },
  {
   "cell_type": "code",
   "execution_count": 8,
   "metadata": {},
   "outputs": [
    {
     "name": "stderr",
     "output_type": "stream",
     "text": [
      "/home/harry/anaconda3/envs/llm/lib/python3.12/site-packages/urllib3/connectionpool.py:1103: InsecureRequestWarning: Unverified HTTPS request is being made to host 'www.aiou.edu.pk'. Adding certificate verification is strongly advised. See: https://urllib3.readthedocs.io/en/latest/advanced-usage.html#tls-warnings\n",
      "  warnings.warn(\n"
     ]
    }
   ],
   "source": [
    "docs = loader.load()"
   ]
  },
  {
   "cell_type": "code",
   "execution_count": 16,
   "metadata": {},
   "outputs": [
    {
     "name": "stdout",
     "output_type": "stream",
     "text": [
      "\n",
      "\n",
      "\n",
      "\n",
      "\n",
      "\n",
      "\n",
      "\n",
      "\n",
      "\n",
      "\n",
      "\n",
      "\n",
      "\n",
      "Home | Education For All\n",
      "\n",
      "\n",
      "\n",
      "\n",
      "\n",
      "\n",
      "\n",
      "\n",
      "\n",
      "\n",
      "\n",
      "\n",
      "\n",
      "\n",
      "\n",
      "\n",
      "      Skip to main content\n",
      "    \n",
      "\n",
      "\n",
      "\n",
      "\n",
      "\n",
      "\n",
      "\n",
      " \n",
      "\n",
      "\n",
      "\n",
      "\n",
      " Help Desk \n",
      "\n",
      " Screen Reader\n",
      " 051-111-112-468\n",
      "\n",
      "\n",
      "\n",
      "\n",
      "\n",
      "\n",
      "\n",
      "\n",
      "\n",
      "\n",
      "\n",
      "\n",
      "\n",
      "\n",
      "-A A +A\n",
      "\n",
      "\n",
      "\n",
      "\n",
      "\n",
      "\n",
      "Select your language\n",
      "Englishاردو\n",
      "\n",
      "\n",
      "\n",
      "\n",
      "\n",
      "\n",
      "\n",
      "\n",
      "\n",
      "\n",
      "\n",
      "\n",
      "\n",
      "\n",
      "\n",
      "\n",
      "\n",
      "\n",
      "\n",
      "\n",
      "\n",
      "\n",
      "\n",
      "\n",
      "\n",
      "\n",
      "\n",
      "\n",
      "\n",
      "\n",
      "\n",
      "\n",
      "\n",
      "Admission Open\n",
      "For Semester Spring 2024\n",
      "\n",
      "\n",
      "\n",
      "\n",
      "\n",
      "\n",
      "Reschedule Exam (AD, BS, B.Ed) \n",
      "AJK on 10 & 11 May, 2024\n",
      "\n",
      "\n",
      "\n",
      "\n",
      "\n",
      "\n",
      "MBA Viva Voce Result\n",
      "March, 2024\n",
      "\n",
      "\n",
      "\n",
      "\n",
      "\n",
      "\n",
      "MSc Viva Voce ResultAdministrative Sciences\n",
      "February 19 to 20, 2024\n",
      "\n",
      "\n",
      "\n",
      "\n",
      "\n",
      "\n",
      "\n",
      "\n",
      "\n",
      "Convocation\n",
      "Click Here For Registrat\n"
     ]
    }
   ],
   "source": [
    "print(docs[0].page_content[:500])"
   ]
  },
  {
   "cell_type": "markdown",
   "metadata": {},
   "source": [
    "# NOTION"
   ]
  },
  {
   "cell_type": "code",
   "execution_count": 19,
   "metadata": {},
   "outputs": [],
   "source": [
    "from langchain.document_loaders import NotionDirectoryLoader\n",
    "loader = NotionDirectoryLoader(\"../docs/pdf/data.pdf\")\n",
    "docs = loader.load()"
   ]
  },
  {
   "cell_type": "code",
   "execution_count": null,
   "metadata": {},
   "outputs": [],
   "source": [
    "print(docs[0].page_content[0:200])"
   ]
  }
 ],
 "metadata": {
  "kernelspec": {
   "display_name": "llm",
   "language": "python",
   "name": "python3"
  },
  "language_info": {
   "codemirror_mode": {
    "name": "ipython",
    "version": 3
   },
   "file_extension": ".py",
   "mimetype": "text/x-python",
   "name": "python",
   "nbconvert_exporter": "python",
   "pygments_lexer": "ipython3",
   "version": "3.12.3"
  }
 },
 "nbformat": 4,
 "nbformat_minor": 2
}
