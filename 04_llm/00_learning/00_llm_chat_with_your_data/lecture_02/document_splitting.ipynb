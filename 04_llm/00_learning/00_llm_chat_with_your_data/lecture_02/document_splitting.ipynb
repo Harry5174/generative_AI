{
 "cells": [
  {
   "cell_type": "markdown",
   "metadata": {},
   "source": [
    "# DOCUMENT SPLITTER"
   ]
  },
  {
   "cell_type": "code",
   "execution_count": 2,
   "metadata": {},
   "outputs": [],
   "source": [
    "import os\n",
    "import openai\n",
    "import sys\n",
    "sys.path.append('../.env')\n",
    "\n",
    "from dotenv import load_dotenv, find_dotenv\n",
    "_ = load_dotenv(find_dotenv()) # read local .env file\n",
    "\n",
    "openai.api_key  = os.environ['OPENAI_API_KEY']"
   ]
  },
  {
   "cell_type": "code",
   "execution_count": 4,
   "metadata": {},
   "outputs": [],
   "source": [
    "from langchain.text_splitter import RecursiveCharacterTextSplitter, CharacterTextSplitter"
   ]
  },
  {
   "cell_type": "code",
   "execution_count": 5,
   "metadata": {},
   "outputs": [],
   "source": [
    "chunk_size =26\n",
    "chunk_overlap = 4"
   ]
  },
  {
   "cell_type": "code",
   "execution_count": 6,
   "metadata": {},
   "outputs": [],
   "source": [
    "r_splitter = RecursiveCharacterTextSplitter(\n",
    "    chunk_size=chunk_size,\n",
    "    chunk_overlap=chunk_overlap\n",
    ")\n",
    "c_splitter = CharacterTextSplitter(\n",
    "    chunk_size=chunk_size,\n",
    "    chunk_overlap=chunk_overlap\n",
    ")"
   ]
  },
  {
   "cell_type": "code",
   "execution_count": 7,
   "metadata": {},
   "outputs": [],
   "source": [
    "# it won't split the text as data size is 26\n",
    "text1 = 'abcdefghijklmnopqrstuvwxyz'"
   ]
  },
  {
   "cell_type": "code",
   "execution_count": 8,
   "metadata": {},
   "outputs": [
    {
     "data": {
      "text/plain": [
       "['abcdefghijklmnopqrstuvwxyz']"
      ]
     },
     "execution_count": 8,
     "metadata": {},
     "output_type": "execute_result"
    }
   ],
   "source": [
    "r_splitter.split_text(text1)"
   ]
  },
  {
   "cell_type": "code",
   "execution_count": 9,
   "metadata": {},
   "outputs": [],
   "source": [
    "text2 = 'abcdefghijklmnopqrstuvwxyzabcdefg'"
   ]
  },
  {
   "cell_type": "code",
   "execution_count": 10,
   "metadata": {},
   "outputs": [
    {
     "data": {
      "text/plain": [
       "['abcdefghijklmnopqrstuvwxyz', 'wxyzabcdefg']"
      ]
     },
     "execution_count": 10,
     "metadata": {},
     "output_type": "execute_result"
    }
   ],
   "source": [
    "r_splitter.split_text(text2)"
   ]
  },
  {
   "cell_type": "code",
   "execution_count": 11,
   "metadata": {},
   "outputs": [],
   "source": [
    "text3 = \"a b c d e f g h i j k l m n o p q r s t u v w x y z\""
   ]
  },
  {
   "cell_type": "code",
   "execution_count": 12,
   "metadata": {},
   "outputs": [
    {
     "data": {
      "text/plain": [
       "['a b c d e f g h i j k l m', 'l m n o p q r s t u v w x', 'w x y z']"
      ]
     },
     "execution_count": 12,
     "metadata": {},
     "output_type": "execute_result"
    }
   ],
   "source": [
    "r_splitter.split_text(text3)"
   ]
  },
  {
   "cell_type": "code",
   "execution_count": 13,
   "metadata": {},
   "outputs": [
    {
     "data": {
      "text/plain": [
       "['a b c d e f g h i j k l m n o p q r s t u v w x y z']"
      ]
     },
     "execution_count": 13,
     "metadata": {},
     "output_type": "execute_result"
    }
   ],
   "source": [
    "c_splitter.split_text(text3)"
   ]
  },
  {
   "cell_type": "code",
   "execution_count": 15,
   "metadata": {},
   "outputs": [
    {
     "data": {
      "text/plain": [
       "['abcdefghijklmnopqrstuvwxyzabcdefg']"
      ]
     },
     "execution_count": 15,
     "metadata": {},
     "output_type": "execute_result"
    }
   ],
   "source": [
    "c_splitter = CharacterTextSplitter(\n",
    "    chunk_size=chunk_size,\n",
    "    chunk_overlap=chunk_overlap,\n",
    "    separator = ' '\n",
    ")\n",
    "c_splitter.split_text(text3)"
   ]
  },
  {
   "cell_type": "markdown",
   "metadata": {},
   "source": [
    "# RECURSIVE SPLITTING DETAILS"
   ]
  },
  {
   "cell_type": "code",
   "execution_count": 16,
   "metadata": {},
   "outputs": [],
   "source": [
    "some_text = \"\"\"When writing documents, writers will use document structure to group content. \\\n",
    "This can convey to the reader, which idea's are related. For example, closely related ideas \\\n",
    "are in sentances. Similar ideas are in paragraphs. Paragraphs form a document. \\n\\n  \\\n",
    "Paragraphs are often delimited with a carriage return or two carriage returns. \\\n",
    "Carriage returns are the \"backslash n\" you see embedded in this string. \\\n",
    "Sentences have a period at the end, but also, have a space.\\\n",
    "and words are separated by space.\"\"\""
   ]
  },
  {
   "cell_type": "code",
   "execution_count": 17,
   "metadata": {},
   "outputs": [
    {
     "data": {
      "text/plain": [
       "496"
      ]
     },
     "execution_count": 17,
     "metadata": {},
     "output_type": "execute_result"
    }
   ],
   "source": [
    "len(some_text)"
   ]
  },
  {
   "cell_type": "code",
   "execution_count": 18,
   "metadata": {},
   "outputs": [],
   "source": [
    "c_splitter = CharacterTextSplitter(\n",
    "    chunk_size=450,\n",
    "    chunk_overlap=0,\n",
    "    separator = ' '\n",
    ")\n",
    "r_splitter = RecursiveCharacterTextSplitter(\n",
    "    chunk_size=450,\n",
    "    chunk_overlap=0, \n",
    "    separators=[\"\\n\\n\", \"\\n\", \" \", \"\"]\n",
    ")"
   ]
  },
  {
   "cell_type": "code",
   "execution_count": 19,
   "metadata": {},
   "outputs": [
    {
     "data": {
      "text/plain": [
       "['When writing documents, writers will use document structure to group content. This can convey to the reader, which idea\\'s are related. For example, closely related ideas are in sentances. Similar ideas are in paragraphs. Paragraphs form a document. \\n\\n Paragraphs are often delimited with a carriage return or two carriage returns. Carriage returns are the \"backslash n\" you see embedded in this string. Sentences have a period at the end, but also,',\n",
       " 'have a space.and words are separated by space.']"
      ]
     },
     "execution_count": 19,
     "metadata": {},
     "output_type": "execute_result"
    }
   ],
   "source": [
    "c_splitter.split_text(some_text)"
   ]
  },
  {
   "cell_type": "code",
   "execution_count": 20,
   "metadata": {},
   "outputs": [
    {
     "data": {
      "text/plain": [
       "[\"When writing documents, writers will use document structure to group content. This can convey to the reader, which idea's are related. For example, closely related ideas are in sentances. Similar ideas are in paragraphs. Paragraphs form a document.\",\n",
       " 'Paragraphs are often delimited with a carriage return or two carriage returns. Carriage returns are the \"backslash n\" you see embedded in this string. Sentences have a period at the end, but also, have a space.and words are separated by space.']"
      ]
     },
     "execution_count": 20,
     "metadata": {},
     "output_type": "execute_result"
    }
   ],
   "source": [
    "r_splitter.split_text(some_text)"
   ]
  },
  {
   "cell_type": "code",
   "execution_count": 21,
   "metadata": {},
   "outputs": [
    {
     "name": "stderr",
     "output_type": "stream",
     "text": [
      "<>:4: SyntaxWarning: invalid escape sequence '\\.'\n",
      "<>:4: SyntaxWarning: invalid escape sequence '\\.'\n",
      "/tmp/ipykernel_54973/158012430.py:4: SyntaxWarning: invalid escape sequence '\\.'\n",
      "  separators=[\"\\n\\n\", \"\\n\", \"\\. \", \" \", \"\"]\n"
     ]
    },
    {
     "data": {
      "text/plain": [
       "[\"When writing documents, writers will use document structure to group content. This can convey to the reader, which idea's are related. For example,\",\n",
       " 'closely related ideas are in sentances. Similar ideas are in paragraphs. Paragraphs form a document.',\n",
       " 'Paragraphs are often delimited with a carriage return or two carriage returns. Carriage returns are the \"backslash n\" you see embedded in this',\n",
       " 'string. Sentences have a period at the end, but also, have a space.and words are separated by space.']"
      ]
     },
     "execution_count": 21,
     "metadata": {},
     "output_type": "execute_result"
    }
   ],
   "source": [
    "r_splitter = RecursiveCharacterTextSplitter(\n",
    "    chunk_size=150,\n",
    "    chunk_overlap=0,\n",
    "    separators=[\"\\n\\n\", \"\\n\", \"\\. \", \" \", \"\"]\n",
    ")\n",
    "r_splitter.split_text(some_text)"
   ]
  },
  {
   "cell_type": "code",
   "execution_count": 22,
   "metadata": {},
   "outputs": [
    {
     "name": "stderr",
     "output_type": "stream",
     "text": [
      "<>:4: SyntaxWarning: invalid escape sequence '\\.'\n",
      "<>:4: SyntaxWarning: invalid escape sequence '\\.'\n",
      "/tmp/ipykernel_54973/2945222903.py:4: SyntaxWarning: invalid escape sequence '\\.'\n",
      "  separators=[\"\\n\\n\", \"\\n\", \"(?<=\\. )\", \" \", \"\"]\n"
     ]
    },
    {
     "data": {
      "text/plain": [
       "[\"When writing documents, writers will use document structure to group content. This can convey to the reader, which idea's are related. For example,\",\n",
       " 'closely related ideas are in sentances. Similar ideas are in paragraphs. Paragraphs form a document.',\n",
       " 'Paragraphs are often delimited with a carriage return or two carriage returns. Carriage returns are the \"backslash n\" you see embedded in this',\n",
       " 'string. Sentences have a period at the end, but also, have a space.and words are separated by space.']"
      ]
     },
     "execution_count": 22,
     "metadata": {},
     "output_type": "execute_result"
    }
   ],
   "source": [
    "r_splitter = RecursiveCharacterTextSplitter(\n",
    "    chunk_size=150,\n",
    "    chunk_overlap=0,\n",
    "    separators=[\"\\n\\n\", \"\\n\", \"(?<=\\. )\", \" \", \"\"]\n",
    ")\n",
    "r_splitter.split_text(some_text)"
   ]
  },
  {
   "cell_type": "code",
   "execution_count": 1,
   "metadata": {},
   "outputs": [],
   "source": [
    "from langchain.document_loaders import PyPDFLoader\n",
    "loader = PyPDFLoader(\"../docs/pdf/data.pdf\")\n",
    "pages = loader.load()"
   ]
  },
  {
   "cell_type": "code",
   "execution_count": 2,
   "metadata": {},
   "outputs": [],
   "source": [
    "from langchain.text_splitter import CharacterTextSplitter\n",
    "text_splitter = CharacterTextSplitter(\n",
    "    separator=\"\\n\",\n",
    "    chunk_size=1000,\n",
    "    chunk_overlap=150,\n",
    "    length_function=len\n",
    ")"
   ]
  },
  {
   "cell_type": "code",
   "execution_count": null,
   "metadata": {},
   "outputs": [],
   "source": []
  },
  {
   "cell_type": "code",
   "execution_count": 3,
   "metadata": {},
   "outputs": [],
   "source": [
    "docs = text_splitter.split_documents(pages)"
   ]
  },
  {
   "cell_type": "code",
   "execution_count": 4,
   "metadata": {},
   "outputs": [
    {
     "data": {
      "text/plain": [
       "13"
      ]
     },
     "execution_count": 4,
     "metadata": {},
     "output_type": "execute_result"
    }
   ],
   "source": [
    "len(docs)"
   ]
  },
  {
   "cell_type": "code",
   "execution_count": 5,
   "metadata": {},
   "outputs": [
    {
     "data": {
      "text/plain": [
       "2"
      ]
     },
     "execution_count": 5,
     "metadata": {},
     "output_type": "execute_result"
    }
   ],
   "source": [
    "len(pages)"
   ]
  },
  {
   "cell_type": "code",
   "execution_count": 8,
   "metadata": {},
   "outputs": [
    {
     "name": "stdout",
     "output_type": "stream",
     "text": [
      "Home\t|\tEducation\tFor\tAll\t\n",
      "Skip\tto\tmain\tcontent\t\n",
      "Â\tHelp\tDeskÂ\t\t\n",
      "Â\tScreen\tReader\tÂ\t051-111-112-468\t\n",
      "-A\tA\t+A\t\n",
      "Select\tyour\tlanguage\n",
      "EnglishØ§Ø±Ø¯Ùˆ\t\n",
      "Admission\tOpen\tFor\tSemester\tSpring\t2024\t\n",
      "Reschedule\tExam\t(AD,\tBS,\tB.Ed)\t\n",
      "AJK\ton\t10\t&\t11\tMay,\t2024\t\n",
      "MBA\n",
      "Viva\tVoce\tResult\tMarch,\t2024\t\n",
      "MSc\tViva\tVoce\tResultAdministrative\tSciences\tFebruary\t19\tto\t20,\t2024\t\n",
      "Convocation\tClick\tHere\tFor\n",
      "Registration\t\n",
      "AIOU\tSWIFT\tCENTERS\t\n",
      "\"\tClick\tfor\tDetails\"\t\n",
      "Certificate/Degree\tProcessing\tRequirements\t\n",
      "Examinations\tDepartment\n",
      "Main\tnavigation\t\n",
      "Home\t\n",
      "About\t\n",
      "Vice\tChancellor\tMessage\t\n",
      "AIOU\tat\ta\tGlance\t\n",
      "Organization\tOverview\t\n",
      "Center\tof\tExcellence\t\n",
      "Seerat-un-\n",
      "Nabi\t(ï·º)\tChair\t\n",
      "Iqbal\tChair\ton\tTasawwuf\tand\tMuslim\tThoughts\t\n",
      "Chair\tfor\tCreating\tArchives\tof\tIntelligentsia\tof\tPakistan\t\n",
      "Project\n",
      "Management\tUnit\t\n",
      "Administration\t\n",
      "ADMINISTRATIVE\tDEPARTMENTS\t\n",
      "Vice\tChancellor\tOffice\t\n",
      "Registrar\tOffice\t\n",
      "Treasurer\tOffice\n",
      "Directorate\tof\tRegional\tServices\t\n",
      "Directorate\tof\tAdmissions\t&\tMailing\t\n",
      "Directorate\tof\tPlanning\t&\tDevelopment\t\n",
      "Directorate\tof\n",
      "Public\tRelations\t\n",
      "Directorate\tof\tPurchase\t\n",
      "Directorate\tof\tWorks\t\n",
      "ADMINISTRATIVE\tDEPARTMENTS\t\n",
      "Directorate\tof\tInformation\t&\n",
      "Communication\tTechnology\t\n",
      "Directorate\tof\tInternational\tCollaboration\t&\tExchange\t\n",
      "Directorate\tof\tAcademic\tPlanning\t&\tCourse\n",
      "Production\t\n",
      "Directorate\tof\tStudents\tAdvisory\t&\tCounselling\tServices\t\n",
      "Office\tof\tResearch\tInnovation\t&\tCommercialization\t\n",
      "Board\tof\n",
      "Advance\tStudies\t&\tResearch\t\n",
      "Institute\tof\tEducational\tTechnology\t\n",
      "Quality\tEnhancement\tCell\t\n",
      "Print\tProduction\tUnit\n",
      "ADMINISTRATIVE\tDEPARTMENTS\t\n",
      "Examination\tDepartment\t\n",
      "Central\tLibrary\t\n",
      "Transport\tSection\t\n",
      "Security\tSection\t\n",
      "Health\tCare\n",
      "Centre\t\n",
      "Estate\tOffice\t\n",
      "Day\tCare\tCenter\t\n",
      "Hostels\t\n",
      "Academics\t\n",
      "Faculties\t\n",
      "Faculty\tof\tArabic\tand\tIslamic\tStudies\t\n",
      "Faculty\tof\tEducation\n",
      "Faculty\tof\tSciences\t\n",
      "Faculty\tof\tSocial\tSciences\tand\tHumanities\t\n",
      "Centre\tfor\tLanguages\tand\tTranslation\tStudies\t(CeLTS)\n",
      "Programmes\t\n",
      "PhD\tProgrammes\t\n",
      "MPhil\t/\tMS\tProgrammes\t\n",
      "Bachelor\tProgrammes\t\n",
      "B.Ed\tProgrammes\t\n",
      "Higher\tSecondary\tSchool\n",
      "Certificate\t\n",
      "Post\tGraduate\tDiploma\t\n",
      "STEP\t/\tCertificate\tCourses\t\n",
      "Secondary\tSchool\tCertificate\t\n",
      "Admissions\t\n",
      "Admissions\t(OAS)\n",
      "Enrollment\t(CMS)\t\n",
      "Fee\tTariff\tPhase\tI\t\n",
      "Fee\tTariff\tPhase\tII\t\n",
      "Admission\tObjections\t(Manual\tForms)\t\n",
      "Guidance\t&\tHelp\t\n",
      "Examinations\n",
      "Results\t(Web\tBased)\t\n",
      "Results\tCMS\t\n",
      "Date\tSheet\t\n",
      "Degree\tCase\tTracking\t\n",
      "Verification\tCase\tTracking\t\n",
      "Assignments\tSchedule\t\n",
      "Assignment\n",
      "Question\tPapers\t\n",
      "Guidance\t&\tHelp\t\n",
      "Research\t\n",
      "AIOU\tJournals\t\n",
      "AIOU\tConferences\t/\tSeminars\t\n",
      "AIOU\tIRI\t\n",
      "AIOU\tIRPLL\t\n",
      "AIOU\tOJS\t\n",
      "AIOU\tIN\n",
      "MEDIA\t\n",
      "News\tClippings\t\n",
      "Videos\t\n",
      "Events\t\n",
      "Contact\tUs\t\n",
      "Quick\tLinks\t\n",
      "AIOU\tHelp\tDesk\t\n",
      "AIOU\tLIVE\t(FM\tRadio/TV)\t\n",
      "AIOU\tLibrary\t\n",
      "Academic\n",
      "Calendar\t\n",
      "Books\t\n",
      "Center\tof\tExcellence\tfor\tCPEC\t\n",
      "Convocation\t\n",
      "Directorate\tof\tAP&CP\t\n",
      "Directorate\tof\tICE\t\n",
      "Email\t(AIOU\temployees\tonly)\n",
      "FAQ's\t\n",
      "Financial\tSupport\tScheme\t\n",
      "ICMAP\tStudy\tMaterial\t\n",
      "Jamia\tNama\t\n",
      "Jobs\t\n",
      "MIT\tOpen\tCourseware\t\n",
      "News\t&\tViews\t\n",
      "OAS\t(For\n",
      "Program\tCoordinators)\t\n",
      "Overseas\t\n",
      "Pakistan\tCitizen's\tPortal\t\n",
      "Pakistan\tInfographic\t\n",
      "Quality\tEnhancement\t\n",
      "RTI\t(Right\tTo\tInformation)\n",
      "Regional\tCampuses\t\n",
      "Swift\tCenter\t\n",
      "Tender\tNotices\t\n",
      "Home\t\n",
      "Apply\tOnline\n",
      "Â\tÂ\tÂ\tÂ\tÂ\tÂ\tÂ\tÂ\tÂ\tÂ\tÂ\tÂ\tÂ\tÂ\tÂ\tÂ\tÂ\tÂ\tÂ\tÂ\tÂ\tÂ\tÂ\tÂ\tÂ\tÂ\tÂ\tÂ\tÂ\tÂ\tÂ\tÂ\tÂ\tÂ\tÂ\tÂ\tÂ\tÂ\tÂ\tÂ\tÂ\tÂ\t\n",
      "Â\tÂ\tÂ\tÂ\tÂ\tÂ\tÂ\tÂ\tÂ\tÂ\tÂ\tÂ\tÂ\tÂ\tÂ\tÂ\tÂ\tÂ\tÂ\tÂ\tÂ\tÂ\tÂ\tÂ\tÂ\tÂ\tÂ\tÂ\tÂ\tÂ\tÂ\tÂ\tÂ\tÂ\tÂ\tÂ\tÂ\tÂ\tÂ\tÂ\tÂ\tÂ\t\n",
      "Â\tÂ\tÂ\tÂ\tÂ\tÂ\tÂ\tÂ\tÂ\tÂ\tÂ\tÂ\tÂ\tÂ\tÂ\tÂ\tÂ\tÂ\tÂ\tÂ\tÂ\tÂ\tÂ\tÂ\tÂ\tÂ\tÂ\tÂ\tÂ\tÂ\tÂ\tÂ\tÂ\tÂ\tÂ\tÂ\tÂ\tÂ\tÂ\tÂ\tÂ\tÂ\t\n",
      "Â\tÂ\tÂ\tÂ\tÂ\tÂ\tÂ\tÂ\tÂ\tÂ\tÂ\tÂ\tÂ\tÂ\tÂ\tÂ\tÂ\tÂ\tÂ\tÂ\tÂ\tÂ\tÂ\tÂ\tÂ\tÂ\tÂ\tÂ\tÂ\tÂ\tÂ\tÂ\tÂ\tÂ\tÂ\tÂ\tÂ\tÂ\tÂ\tÂ\tÂ\tÂ\t\n",
      "Â\tÂ\tÂ\tÂ\tÂ\tÂ\tÂ\tÂ\tÂ\tÂ\tÂ\tÂ\tÂ\tÂ\tÂ\tÂ\tÂ\tÂ\tÂ\tÂ\tÂ\tÂ\tÂ\tÂ\tÂ\tÂ\tÂ\tÂ\tÂ\tÂ\tÂ\tÂ\tÂ\tÂ\tÂ\tÂ\tÂ\tÂ\tÂ\tÂ\tÂ\tÂ\t\n",
      "Â\tÂ\tÂ\tÂ\tÂ\tÂ\tÂ\tÂ\tÂ\tÂ\tÂ\tÂ\tÂ\tÂ\tÂ\tÂ\tÂ\tÂ\tÂ\tÂ\tÂ\tÂ\tÂ\tÂ\tÂ\tÂ\tÂ\tÂ\tÂ\tÂ\tÂ\tÂ\tÂ\tÂ\tÂ\tÂ\tÂ\tÂ\tÂ\tÂ\tÂ\tÂ\t\n",
      "Â\tÂ\tÂ\tÂ\tÂ\tÂ\tÂ\tÂ\tÂ\tÂ\tÂ\tÂ\tÂ\tÂ\tÂ\tÂ\tÂ\tÂ\tÂ\tÂ\tÂ\tÂ\tÂ\tÂ\tÂ\tÂ\tÂ\tÂ\tÂ\tÂ\tÂ\tÂ\tÂ\tÂ\tÂ\tÂ\tÂ\tÂ\tÂ\tÂ\tÂ\tÂ\t\t\n",
      "Apply\tOnline\t\n",
      "Admission\t(OAS)\t\n",
      "Enrollment\n",
      "(CMS)\t\n",
      "Aaghi\t(LMS)\t\n",
      "Academic\tCalender\t\n",
      "Results\t\n",
      "Books\t\n",
      "What\twe\tdo?\tStudent\tServices\t\n",
      "Date\tSheet\t\n",
      "Book\tTracking\t\n",
      "Downloads\n",
      "Assignments\t\n",
      "Financial\tSupport\tScheme\t\n",
      "Workshop\tSchedule\t\n",
      "Date\tSheet\t\n",
      "fas\tfa-calendar-alt\t\n",
      "Read\tmore\t\n",
      "Book\tTracking\t\n",
      "fas\tfa-\n",
      "warehouse\t\n",
      "Read\tmore\t\n",
      "Downloads\t\n",
      "fas\tfa-download\t\n",
      "Read\tmore\t\n",
      "Assignments\t\n",
      "fas\tfa-book\tRead\tmore\t\n",
      "Financial\tSupport\tScheme\t\n",
      "fas\n",
      "fa-hand-holding-usd\tRead\tmore\t\n",
      "Workshop\tSchedule\t\n",
      "fas\tfa-calendar-check\tRead\tmore\t\n",
      "Whats\tHappening\tNews\t&\tEvents\t\n",
      "Last\n",
      "date\tfor\tChange\tof\tExams\tfor\tPostgraduate\tPrograms\t(MA/MSC/PGD)\t\n",
      "News\t3,\tMay\t2024\t\n",
      "Three-Day\tInternational\tConference\ton\n",
      "Ijtihad\tBil\tMaqasid,\tMay\t22-24,\t2024\t\n",
      "News\t18,\tApr\t2024\t\n",
      "Final\tList\tof\tSuccessful\tCandidates\tfor\tMS,\tM.Phil\t&\tPh.D\t\n",
      "Admission\n",
      "Spring\t2024.\t\n",
      "News\t12,\tMar\t2024\t\n",
      "MS\tEnvironmental\tDesign\t\n",
      "News\t25,\tJan\t2024\t\n",
      "The\tResult\tSection\tHas\tAnnounced\tThe\tResults\tOf\n",
      "SSC,HSSC,\tBS,\t\n",
      "B.Ed\t&\tPost\tGraduate\tProgram.\t\n",
      "News\t29,\tNov\t2023\t\n",
      "BEEF\t\"OUT\tOF\tPROVINCE\tSCHOLARSHIPS\"\tSCHEME\t\n",
      "News\t11,\n",
      "Oct\t2023\t\n",
      "Pakistan\tCitizen\tPortal\t\n",
      "News\t22,\tFeb\t2023\t\n",
      "Certificate/\tDegree\tProcessing\tRequirements\t\n",
      "News\t20,\tJan\t2023\t\n",
      "AIOU\t\n",
      "Where\n",
      "we\tserve?\tRegions\t\n",
      "All\tPunjab\tKPK\tSindh\tBalochistan\tGilgit-Baltistan/Federal\tAreas/AJK\t\n",
      "Multan\tRegion\t\n",
      "Punjab\t\n",
      "Peshawar\tRegion\n",
      "KPK\t\n",
      "Karachi\tRegion\t\n",
      "Sindh\t\n",
      "Quetta\tRegion\t\n",
      "Balochistan\t\n",
      "Kalat\tRegion\t\n",
      "Balochistan\t\n",
      "Dera\tMurad\tjumali\tRegion\t\n",
      "Balochistan\n",
      "Hyderabad\tRegion\t\n",
      "Sindh\t\n",
      "Larkana\tRegion\t\n",
      "Sindh\t\n",
      "Abbottabad\tRegion\t\n",
      "KPK\t\n",
      "Mardan\tRegion\t\n",
      "KPK\t\n",
      "Load\tMore\t\n",
      "About\tus\tOverview\t\n",
      "01.\n",
      "mission\t\n",
      "02.\tpromise\t\n",
      "03.\tcore\tvalues\t\n",
      "Allama\tIqbal\tOpen\tUniversity,\tthe\tlargest\tuniversity\tof\tAsia\tin\tdistance\teducation,\twhich\n",
      "primarily\tfocuses\ton\tthe\teducational\tneeds\tof\tmasses\tby\tproviding\tquality\teducation\tat\ttheir\tdoorsteps\tall\tover\tthe\tcountry\tand\n",
      "by\tblurring\tspatial\tand\ttemporal\tboundaries.\tCurrently,\tthe\tuniversity\toffers\tunique\teducational\topportunities\tto\ta\thuge\n",
      "proportion\tof\t1\tmillion\tstudents\tin\ta\tdiverse\tand\tdynamic\trange\tof\tprograms\tstarting\tfrom\tMatriculation\tto\tthe\tPhD\tlevel.\t\n",
      "The\n",
      "University\texclusively\tfocuses\ton\tenhancing\tfemale\tliteracy\tratio\tin\tthe\tcountry\tso\tthat\twomen\tcan\tperform\ttheir\tvital\trole\tin\n",
      "the\tprocess\tof\tnational\tprogress\tand\tdevelopment.\tThe\tuniversity\ttakes\tsame\tspecial\tinitiatives\tfor\tthe\tunderprivileged\tand\n",
      "marginalized\tsegments\tof\tthe\tsociety\tnot\tonly\tfor\ttheir\teconomic\tempowerment\tbut\talso\tfor\tpoverty\talleviation\tin\tthe\tcountry.\n",
      "The\tmain\tobjectives\tof\tthe\tUniversity\tas\tenunciated\tin\tthe\tAct\tare\tas\tunder:\t\n",
      "To\tprovide\teducational\tfacilities\tto\tpeople\twho\n",
      "cannot\tleave\ttheir\thomes\tand\tjobs\tin\tsuch\tmanner\tas\tit\tmay\tdetermine.\tTo\tprovide\tsuch\tfacilities\tto\tthe\tmasses\tfor\ttheir\n",
      "educational\tuplift\tas\tit\tmay\tdetermine.\tTo\tprovide\tfacilities\tfor\tthe\ttraining\tof\tteachers\tin\tsuch\tmanner\tas\tit\tmay\tdetermine.\n",
      "Statistics\t\n",
      "54\tRegional\tOffices\t\n",
      "4\tFaculties\t\n",
      "1027000\tCurrent\tEnrollment\t\n",
      "4487044\tAlumni\t\n",
      "Gallery\t\n",
      "Educational\tCollaborations\n",
      "Collaborations\t\n",
      "Prof.\tDr.\tZia\tUl-Qayyum\t\n",
      "\"Vice\tChancellor\tMessage\"\tWelcome\tto\tAllama\tIqbal\tOpen\tUniversity,\tthe\tlargest\n",
      "university\tof\tAsia\tin\tdistance\teducation,\twhich\tprimarily\tfocuses\ton\tthe\teducational\tneeds\tof\tmasses\tby\tproviding\tquality\n",
      "education\tat\ttheir\tdoorsteps\tall\tover\tthe\tcountry\tand\tby\tblurring\tspatial\tand\ttemporal\tboundaries.\tCurrently,\tthe\tuniversity\n",
      "offers\tunique\teducational\topportunities\tto\ta\thuge\tproportion\tof\t1.4\tmillion\tstudents\tin\ta\tdiverse\tand\tdynamic\trange\tof\tprograms\n",
      "starting\tfrom\tMatriculation\tto\tthe\tPhD\tlevel.\t\n",
      "Prof.\tDr.\tNasir\tMahmood\t\n",
      "Faculty\tof\tEducation\t\n",
      "\"Dean\tMessage\"\tThe\tUniversity\n",
      "exclusively\tfocuses\ton\tenhancing\tfemale\tliteracy\tratio\tin\tthe\tcountry\tso\tthat\twomen\tcan\tperform\ttheir\tvital\trole\tin\tthe\tprocess\n"
     ]
    }
   ],
   "source": [
    "print(pages[0].page_content)"
   ]
  },
  {
   "cell_type": "code",
   "execution_count": 9,
   "metadata": {},
   "outputs": [
    {
     "name": "stdout",
     "output_type": "stream",
     "text": [
      "of\tnational\tprogress\tand\tdevelopment.\tThe\tuniversity\ttakes\tsame\tspecial\tinitiatives\tfor\tthe\tunderprivileged\tand\tmarginalized\n",
      "segments\tof\tthe\tsociety\tnot\tonly\tfor\ttheir\teconomic\tempowerment\tbut\talso\tfor\tpoverty\talleviation\tin\tthe\tcountry.\t\n",
      "Prof.\tDr\tShah\n",
      "Mohyuddin\tHashmi\t\n",
      "Faculty\tof\tArabic\tAnd\tIslamic\tStudies\t\n",
      "\"Dean\tMessage\"\tIslamic\tStudies\tis\tvery\timportant\tand\tbase\tof\n",
      "Education\tin\tIslamic\tRepublic\tof\tPakistan\tand\tno\tUniversity\tcan\tbe\tcompleted\twithout\tit.\tThis\tis\twhy\tfrom\tthe\tstart\tof\tAIOU,\tThe\n",
      "Institute\tof\tArabic\t&\tIslamic\tStudies\twas\testablished\tin\t1974.This\tInstitute\tprepared\tand\toffered\tmany\tcourses\tof\tIslamic\tStudies\n",
      "and\tArabic\tLanguage\tfrom\tSecondary\tSchool\tto\tGraduation\tlevel.\t\n",
      "Prof.\tDr.\tIrshad\tAhmed\tArshad\t\n",
      "Faculty\tof\tSciences\t\n",
      "\"Dean\n",
      "Message\"\tThe\tFaculty\tof\tSciences\tat\tAIOU\twas\tfirst\testablished\tin\t1982\twith\tonly\tfive\tdepartments\tand\tlimited\tnumber\tof\n",
      "undergraduate\tand\tbasic\tfunctional\tcourses.\tOver\tlast\tthree\tto\tfour\tyears\tfive\tnew\tdepartments\tand\ta\trange\tof\thigher\tdegree\n",
      "programs\tare\tadded\tto\tthe\tportfolio\tof\tFaculty\tof\tSciences.\tMost\tof\tthe\tdepartments,\tin\tthe\tFaculty,\tare\tnow\tengaged\tin\tthe\n",
      "development\t/\toffering\tof\thighly\ttechnical,\tscientific\tand\tprofessional.\t\n",
      "Prof.\tDr.\tSyed\tHassan\tRaza\t\n",
      "Faculty\tof\tSocial\tSciences\tAnd\n",
      "Humanities\t\n",
      "\"Dean\tMessage\"\tFirst\testablished\tin\t1981\twith\tfive\tdepartments,\tthe\tFaculty\tof\tSocial\tSciences\tand\tHumanities\thas\n",
      "over\tthe\tYears,\tflourished\tto\tbecome\tby\tfar\tthe\tlargest\tFaculty\tof\tthe\tUniversity.\tIt,\ttoday\tconsists\tof\tfifteen\tdepartments\toffering\n",
      "programmes\tat\tdifferent\tlevels\tin\tvarious\tareas\tlike\tBusiness\tAdministration,\tEconomics,\tMass\tCommunication,\tSociology,\n",
      "Women\tStudies,\tUrdu,\tLibrary\t&\tInformation\tSciences,\tHistory,\tPakistan\tStudies.\t\n",
      "Contact\tUs\t\n",
      "Main\tCampus\tSector\tH-8,\tIslamabad\n",
      "Mail\tsupport@aiou.edu.pk\t\n",
      "Phone\t051\t111\t112\t468\t\n",
      "Contact\tinfo\t\n",
      "Address\t:\tSector\tH-8,\tIslamabad\tsupport@aiou.edu.pk\t\n",
      "051\t111\t112\n",
      "468\t\n",
      "Helpdesk\t\n",
      "Quick\tLinks\t\n",
      "About\tUs\tJobs\t\n",
      "Tender\tNotices\t\n",
      "Downloads\t\n",
      "Research\t\n",
      "ORIC\t\n",
      "AIOU\tLibrary\t\n",
      "For\tQuery\tEmail\tUs\n",
      "adms@aiou.edu.pkÂ\t(Admission)\texam@aiou.edu.pkÂ\t(Examination)\ttr_drs@aiou.edu.pkÂ\t(Regional\tServices)\n",
      "sfc@aiou.edu.pkÂ\t(Student\tAdvisory)\tfee@aiou.edu.pkÂ\t(Treasurer)\t\n",
      "Â©\tCopyright\tAIOU\t2024.\tAll\tRights\tReserved\t\n",
      "Quick\tLinks\n",
      "AIOU\tHelp\tDesk\t\n",
      "AIOU\tLIVE\t(FM\tRadio/TV)\t\n",
      "AIOU\tLibrary\t\n",
      "Academic\tCalendar\t\n",
      "Books\t\n",
      "Center\tof\tExcellence\tfor\tCPEC\t\n",
      "Convocation\n",
      "Directorate\tof\tAP&CP\t\n",
      "Directorate\tof\tICE\t\n",
      "Email\t(AIOU\temployees\tonly)\t\n",
      "FAQ's\t\n",
      "Financial\tSupport\tScheme\t\n",
      "ICMAP\tStudy\tMaterial\n",
      "Jamia\tNama\t\n",
      "Jobs\t\n",
      "MIT\tOpen\tCourseware\t\n",
      "News\t&\tViews\t\n",
      "OAS\t(For\tProgram\tCoordinators)\t\n",
      "Overseas\t\n",
      "Pakistan\tCitizen's\tPortal\n",
      "Pakistan\tInfographic\t\n",
      "Quality\tEnhancement\t\n",
      "RTI\t(Right\tTo\tInformation)\t\n",
      "Regional\tCampuses\t\n",
      "Swift\tCenter\t\n",
      "Tender\tNotices\t\n",
      "About\n",
      "The\tAllama\tIqbal\tOpen\tUniversity\twas\testablished\tin\tMay,\t1974,\twith\tthe\tmain\tobjectives\tof\tproviding\teducational\topportunities\n",
      "to\tmasses\tand\tto\tthose\twho\tcannot\tleave\ttheir\thomes\tand\tjobs.\tDuring\tall\tthese\tpast\tyears,\tthe\tUniversity\thas\tmore\tthan\tfulfilled\n",
      "this\tpromise.\n"
     ]
    }
   ],
   "source": [
    "print(pages[1].page_content)"
   ]
  },
  {
   "cell_type": "code",
   "execution_count": 28,
   "metadata": {},
   "outputs": [
    {
     "name": "stdout",
     "output_type": "stream",
     "text": [
      "Home\t|\tEducation\tFor\tAll\t\n"
     ]
    }
   ],
   "source": [
    "print(docs[0].page_content[:500])"
   ]
  },
  {
   "cell_type": "markdown",
   "metadata": {},
   "source": [
    "# TOKKEN SPLITTING"
   ]
  },
  {
   "cell_type": "code",
   "execution_count": 15,
   "metadata": {},
   "outputs": [],
   "source": [
    "from langchain.text_splitter import TokenTextSplitter"
   ]
  },
  {
   "cell_type": "code",
   "execution_count": 30,
   "metadata": {},
   "outputs": [
    {
     "name": "stdout",
     "output_type": "stream",
     "text": [
      "Collecting tiktoken\n",
      "  Downloading tiktoken-0.6.0-cp312-cp312-manylinux_2_17_x86_64.manylinux2014_x86_64.whl.metadata (6.6 kB)\n",
      "Collecting regex>=2022.1.18 (from tiktoken)\n",
      "  Downloading regex-2024.5.10-cp312-cp312-manylinux_2_17_x86_64.manylinux2014_x86_64.whl.metadata (40 kB)\n",
      "\u001b[2K     \u001b[90m━━━━━━━━━━━━━━━━━━━━━━━━━━━━━━━━━━━━━━━\u001b[0m \u001b[32m40.9/40.9 kB\u001b[0m \u001b[31m857.7 kB/s\u001b[0m eta \u001b[36m0:00:00\u001b[0m \u001b[36m0:00:01\u001b[0m\n",
      "\u001b[?25hRequirement already satisfied: requests>=2.26.0 in /home/harry/anaconda3/envs/llm/lib/python3.12/site-packages (from tiktoken) (2.31.0)\n",
      "Requirement already satisfied: charset-normalizer<4,>=2 in /home/harry/anaconda3/envs/llm/lib/python3.12/site-packages (from requests>=2.26.0->tiktoken) (3.3.2)\n",
      "Requirement already satisfied: idna<4,>=2.5 in /home/harry/anaconda3/envs/llm/lib/python3.12/site-packages (from requests>=2.26.0->tiktoken) (3.7)\n",
      "Requirement already satisfied: urllib3<3,>=1.21.1 in /home/harry/anaconda3/envs/llm/lib/python3.12/site-packages (from requests>=2.26.0->tiktoken) (2.2.1)\n",
      "Requirement already satisfied: certifi>=2017.4.17 in /home/harry/anaconda3/envs/llm/lib/python3.12/site-packages (from requests>=2.26.0->tiktoken) (2024.2.2)\n",
      "Downloading tiktoken-0.6.0-cp312-cp312-manylinux_2_17_x86_64.manylinux2014_x86_64.whl (1.8 MB)\n",
      "\u001b[2K   \u001b[90m━━━━━━━━━━━━━━━━━━━━━━━━━━━━━━━━━━━━━━━━\u001b[0m \u001b[32m1.8/1.8 MB\u001b[0m \u001b[31m1.9 MB/s\u001b[0m eta \u001b[36m0:00:00\u001b[0m00:01\u001b[0m00:01\u001b[0m0m\n",
      "\u001b[?25hDownloading regex-2024.5.10-cp312-cp312-manylinux_2_17_x86_64.manylinux2014_x86_64.whl (789 kB)\n",
      "\u001b[2K   \u001b[90m━━━━━━━━━━━━━━━━━━━━━━━━━━━━━━━━━━━━━━━━\u001b[0m \u001b[32m789.3/789.3 kB\u001b[0m \u001b[31m2.3 MB/s\u001b[0m eta \u001b[36m0:00:00\u001b[0ma \u001b[36m0:00:01\u001b[0m\n",
      "\u001b[?25hInstalling collected packages: regex, tiktoken\n",
      "Successfully installed regex-2024.5.10 tiktoken-0.6.0\n",
      "Note: you may need to restart the kernel to use updated packages.\n"
     ]
    }
   ],
   "source": [
    "%pip install tiktoken"
   ]
  },
  {
   "cell_type": "code",
   "execution_count": 16,
   "metadata": {},
   "outputs": [],
   "source": [
    "text_splitter = TokenTextSplitter(chunk_size=1, chunk_overlap=0)"
   ]
  },
  {
   "cell_type": "code",
   "execution_count": 17,
   "metadata": {},
   "outputs": [],
   "source": [
    "text1 = \"foo bar bazzyfoo\"\n",
    "text2=\"ArithmeticError: foo bar b foo this is not a number and this is not a variable\""
   ]
  },
  {
   "cell_type": "code",
   "execution_count": 19,
   "metadata": {},
   "outputs": [
    {
     "data": {
      "text/plain": [
       "['Ar',\n",
       " 'ithmetic',\n",
       " 'Error',\n",
       " ':',\n",
       " ' foo',\n",
       " ' bar',\n",
       " ' b',\n",
       " ' foo',\n",
       " ' this',\n",
       " ' is',\n",
       " ' not',\n",
       " ' a',\n",
       " ' number',\n",
       " ' and',\n",
       " ' this',\n",
       " ' is',\n",
       " ' not',\n",
       " ' a',\n",
       " ' variable']"
      ]
     },
     "execution_count": 19,
     "metadata": {},
     "output_type": "execute_result"
    }
   ],
   "source": [
    "# text_splitter.split_text(text1)\n",
    "text_splitter.split_text(text2)"
   ]
  },
  {
   "cell_type": "code",
   "execution_count": 20,
   "metadata": {},
   "outputs": [],
   "source": [
    "text_splitter = TokenTextSplitter(chunk_size=10, chunk_overlap=0)"
   ]
  },
  {
   "cell_type": "code",
   "execution_count": 21,
   "metadata": {},
   "outputs": [
    {
     "data": {
      "text/plain": [
       "['ArithmeticError: foo bar b foo this is',\n",
       " ' not a number and this is not a variable']"
      ]
     },
     "execution_count": 21,
     "metadata": {},
     "output_type": "execute_result"
    }
   ],
   "source": [
    "text_splitter.split_text(text2)"
   ]
  },
  {
   "cell_type": "code",
   "execution_count": 22,
   "metadata": {},
   "outputs": [],
   "source": [
    "docs = text_splitter.split_documents(pages)"
   ]
  },
  {
   "cell_type": "code",
   "execution_count": 29,
   "metadata": {},
   "outputs": [
    {
     "data": {
      "text/plain": [
       "'Home\\t|\\tEducation\\tFor\\tAll\\t'"
      ]
     },
     "execution_count": 29,
     "metadata": {},
     "output_type": "execute_result"
    }
   ],
   "source": [
    "docs[0].page_content"
   ]
  },
  {
   "cell_type": "code",
   "execution_count": 24,
   "metadata": {},
   "outputs": [
    {
     "data": {
      "text/plain": [
       "{'source': '../docs/pdf/data.pdf', 'page': 0}"
      ]
     },
     "execution_count": 24,
     "metadata": {},
     "output_type": "execute_result"
    }
   ],
   "source": [
    "pages[0].metadata"
   ]
  },
  {
   "cell_type": "markdown",
   "metadata": {},
   "source": [
    "# Context aware splitting"
   ]
  },
  {
   "cell_type": "code",
   "execution_count": 11,
   "metadata": {},
   "outputs": [],
   "source": [
    "from langchain.document_loaders import NotionDirectoryLoader\n",
    "from langchain.text_splitter import MarkdownHeaderTextSplitter"
   ]
  },
  {
   "cell_type": "code",
   "execution_count": 12,
   "metadata": {},
   "outputs": [],
   "source": [
    "markdown_document = \"\"\"# Title\\n\\n \\\n",
    "## Chapter 1\\n\\n \\\n",
    "Hi this is Jim\\n\\n Hi this is Joe\\n\\n \\\n",
    "### Section \\n\\n \\\n",
    "Hi this is Lance \\n\\n \n",
    "## Chapter 2\\n\\n \\\n",
    "Hi this is Molly\"\"\""
   ]
  },
  {
   "cell_type": "code",
   "execution_count": 13,
   "metadata": {},
   "outputs": [],
   "source": [
    "headers_to_split_on = [\n",
    "    (\"#\", \"Header 1\"),\n",
    "    (\"##\", \"Header 2\"),\n",
    "    (\"###\", \"Header 3\"),\n",
    "]"
   ]
  },
  {
   "cell_type": "code",
   "execution_count": 14,
   "metadata": {},
   "outputs": [],
   "source": [
    "markdown_splitter = MarkdownHeaderTextSplitter(\n",
    "    headers_to_split_on=headers_to_split_on\n",
    ")\n",
    "md_header_splits = markdown_splitter.split_text(markdown_document)"
   ]
  },
  {
   "cell_type": "code",
   "execution_count": 15,
   "metadata": {},
   "outputs": [
    {
     "data": {
      "text/plain": [
       "Document(page_content='Hi this is Jim  \\nHi this is Joe', metadata={'Header 1': 'Title', 'Header 2': 'Chapter 1'})"
      ]
     },
     "execution_count": 15,
     "metadata": {},
     "output_type": "execute_result"
    }
   ],
   "source": [
    "md_header_splits[0]"
   ]
  },
  {
   "cell_type": "code",
   "execution_count": 16,
   "metadata": {},
   "outputs": [
    {
     "data": {
      "text/plain": [
       "Document(page_content='Hi this is Lance', metadata={'Header 1': 'Title', 'Header 2': 'Chapter 1', 'Header 3': 'Section'})"
      ]
     },
     "execution_count": 16,
     "metadata": {},
     "output_type": "execute_result"
    }
   ],
   "source": [
    "md_header_splits[1]"
   ]
  }
 ],
 "metadata": {
  "kernelspec": {
   "display_name": "llm",
   "language": "python",
   "name": "python3"
  },
  "language_info": {
   "codemirror_mode": {
    "name": "ipython",
    "version": 3
   },
   "file_extension": ".py",
   "mimetype": "text/x-python",
   "name": "python",
   "nbconvert_exporter": "python",
   "pygments_lexer": "ipython3",
   "version": "3.12.3"
  }
 },
 "nbformat": 4,
 "nbformat_minor": 2
}
